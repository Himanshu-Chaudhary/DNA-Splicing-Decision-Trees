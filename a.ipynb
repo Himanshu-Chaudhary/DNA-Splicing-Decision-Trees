{
 "cells": [
  {
   "cell_type": "code",
   "execution_count": 1,
   "metadata": {
    "scrolled": true
   },
   "outputs": [
    {
     "name": "stdout",
     "output_type": "stream",
     "text": [
      "done\n"
     ]
    }
   ],
   "source": [
    "import csv\n",
    "import numpy as np\n",
    "from structure import Node,Gene\n",
    "\n",
    "\n",
    "def dataToNode(location):\n",
    "    genes = [];\n",
    "    with open(location,'r') as csvFileObject:\n",
    "         csvReader = csv.reader(csvFileObject)\n",
    "         for line in csvReader:\n",
    "             genes.append(Gene(line[1],line[2]))\n",
    "    return genes\n",
    "\n",
    "def createFun(pos):\n",
    "    def fuctionToReturn(label):\n",
    "        return label[pos]\n",
    "    return fuctionToReturn\n",
    "\n",
    "def compareAccuracy(prediction,actual):\n",
    "    correct = 0\n",
    "    incorrect = 0\n",
    "    with open(prediction,'r') as predictionObject,open(actual,'r') as actualObject:\n",
    "         predReader = list(csv.reader(predictionObject))\n",
    "         actReader = list(csv.reader(actualObject))\n",
    "         for i in (range(len(actReader))):\n",
    "             prefline = predReader[i]\n",
    "             actline = actReader[i]\n",
    "             if (prefline[1]==actline[1]):\n",
    "                correct+=1\n",
    "             else:\n",
    "                incorrect +=1\n",
    "    return correct,incorrect\n",
    "    \n",
    "\n",
    "\n",
    "\n",
    "genes = dataToNode(\"data/training.csv\")\n",
    "functions = [createFun(x) for x in range(0,60)]\n",
    "mainNode = Node(genes,functions,\"gi\",False)\n",
    "mainNode.calculateLables()\n",
    "nodes = [mainNode]\n",
    "while (nodes):\n",
    "    node = nodes.pop(0)\n",
    "    node.split()\n",
    "    nodes+=list(node.nodes.values())\n",
    "print (\"done\")\n",
    "  "
   ]
  },
  {
   "cell_type": "code",
   "execution_count": 2,
   "metadata": {},
   "outputs": [],
   "source": [
    "mainNode.getPrediction(\"data/testing.csv\")"
   ]
  },
  {
   "cell_type": "code",
   "execution_count": 3,
   "metadata": {},
   "outputs": [
    {
     "data": {
      "text/plain": [
       "(1997, 1)"
      ]
     },
     "execution_count": 3,
     "metadata": {},
     "output_type": "execute_result"
    }
   ],
   "source": [
    "compareAccuracy(\"predict.csv\",\"predictions/901.csv\")"
   ]
  },
  {
   "cell_type": "code",
   "execution_count": 4,
   "metadata": {},
   "outputs": [
    {
     "data": {
      "text/plain": [
       "{'EI': 0, 'IE': 0, 'N': 0}"
      ]
     },
     "execution_count": 4,
     "metadata": {},
     "output_type": "execute_result"
    }
   ],
   "source": [
    "{'IE':0,'N':0,'EI':0}"
   ]
  },
  {
   "cell_type": "code",
   "execution_count": null,
   "metadata": {},
   "outputs": [],
   "source": []
  }
 ],
 "metadata": {
  "kernelspec": {
   "display_name": "Python 3",
   "language": "python",
   "name": "python3"
  },
  "language_info": {
   "codemirror_mode": {
    "name": "ipython",
    "version": 3
   },
   "file_extension": ".py",
   "mimetype": "text/x-python",
   "name": "python",
   "nbconvert_exporter": "python",
   "pygments_lexer": "ipython3",
   "version": "3.5.2"
  }
 },
 "nbformat": 4,
 "nbformat_minor": 2
}
